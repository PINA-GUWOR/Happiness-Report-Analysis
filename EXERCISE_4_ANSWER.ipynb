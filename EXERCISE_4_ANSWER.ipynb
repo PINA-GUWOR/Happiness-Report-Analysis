{
  "nbformat": 4,
  "nbformat_minor": 0,
  "metadata": {
    "colab": {
      "provenance": [],
      "include_colab_link": true
    },
    "kernelspec": {
      "name": "python3",
      "display_name": "Python 3"
    },
    "language_info": {
      "name": "python"
    }
  },
  "cells": [
    {
      "cell_type": "markdown",
      "metadata": {
        "id": "view-in-github",
        "colab_type": "text"
      },
      "source": [
        "<a href=\"https://colab.research.google.com/github/PINA-GUWOR/Happiness-Report-Analysis/blob/main/EXERCISE_4_ANSWER.ipynb\" target=\"_parent\"><img src=\"https://colab.research.google.com/assets/colab-badge.svg\" alt=\"Open In Colab\"/></a>"
      ]
    },
    {
      "cell_type": "code",
      "execution_count": null,
      "metadata": {
        "id": "1bgnmRWLbfu5"
      },
      "outputs": [],
      "source": [
        "QUESTION 1\n",
        "##Write a program to produce the following output using for loop##--\n",
        "+----+\n",
        "\\ /\n",
        "/ \\\n",
        "\\ /\n",
        "/ \\\n",
        "\\ /\n",
        "/ \\\n",
        "+----+"
      ]
    },
    {
      "cell_type": "code",
      "source": [
        "# Define the number of rows in the pattern\n",
        "num_rows = 5\n",
        "\n",
        "# Outer loop for each row\n",
        "for i in range(num_rows):\n",
        "    # Inner loop for each column in a row\n",
        "    for j in range(1, num_rows * 2 + 2):\n",
        "        # Print characters based on the position\n",
        "        if j == 1 or j == num_rows * 2 + 1:\n",
        "            print(\"+\", end=\"\")\n",
        "        elif (i % 2 == 0 and j % 2 == 0) or (i % 2 == 1 and j % 2 == 1):\n",
        "            print(\"\\\\\", end=\"\")\n",
        "        else:\n",
        "            print(\"/\", end=\"\")\n",
        "    # Move to the next line after completing a row\n",
        "    print()"
      ],
      "metadata": {
        "colab": {
          "base_uri": "https://localhost:8080/"
        },
        "id": "yr01y5Hlc2-e",
        "outputId": "4e7fef7c-fcac-4eb2-a070-2c5663b3ff8d"
      },
      "execution_count": null,
      "outputs": [
        {
          "output_type": "stream",
          "name": "stdout",
          "text": [
            "+\\/\\/\\/\\/\\+\n",
            "+/\\/\\/\\/\\/+\n",
            "+\\/\\/\\/\\/\\+\n",
            "+/\\/\\/\\/\\/+\n",
            "+\\/\\/\\/\\/\\+\n"
          ]
        }
      ]
    },
    {
      "cell_type": "markdown",
      "source": [
        "***QUESTION 2 ***"
      ],
      "metadata": {
        "id": "DMfo8vE7eSYd"
      }
    },
    {
      "cell_type": "code",
      "source": [
        "for i in range (5):\n",
        "  print(\"**********\")"
      ],
      "metadata": {
        "colab": {
          "base_uri": "https://localhost:8080/"
        },
        "id": "_o-GKwcFduP-",
        "outputId": "4efa2da7-3314-4e4c-b605-7abd4357a464"
      },
      "execution_count": null,
      "outputs": [
        {
          "output_type": "stream",
          "name": "stdout",
          "text": [
            "**********\n",
            "**********\n",
            "**********\n",
            "**********\n",
            "**********\n"
          ]
        }
      ]
    },
    {
      "cell_type": "markdown",
      "source": [
        "***QUESTION 3 ***"
      ],
      "metadata": {
        "id": "KEePHjhGekfO"
      }
    },
    {
      "cell_type": "code",
      "source": [
        "for i in range(1, 7):\n",
        "    a = i\n",
        "    b = i * 2\n",
        "    c = i * 7 - 3\n",
        "    d = i * 10\n",
        "    e = i * -2 - 1\n",
        "    f = i * 15 + 82\n",
        "    g = i * -5 + 18\n",
        "\n",
        "    print(f\"a) {a} b) {b} c) {c} d) {d} e) {e} f) {f} g) {g}\")"
      ],
      "metadata": {
        "colab": {
          "base_uri": "https://localhost:8080/"
        },
        "id": "Lyu7cFOSfsgs",
        "outputId": "77aca126-7dc6-42a8-9963-5a2634c76512"
      },
      "execution_count": null,
      "outputs": [
        {
          "output_type": "stream",
          "name": "stdout",
          "text": [
            "a) 1 b) 2 c) 4 d) 10 e) -3 f) 97 g) 13\n",
            "a) 2 b) 4 c) 11 d) 20 e) -5 f) 112 g) 8\n",
            "a) 3 b) 6 c) 18 d) 30 e) -7 f) 127 g) 3\n",
            "a) 4 b) 8 c) 25 d) 40 e) -9 f) 142 g) -2\n",
            "a) 5 b) 10 c) 32 d) 50 e) -11 f) 157 g) -7\n",
            "a) 6 b) 12 c) 39 d) 60 e) -13 f) 172 g) -12\n"
          ]
        }
      ]
    },
    {
      "cell_type": "code",
      "source": [
        "print('+-------+')\n",
        "\n",
        "for number in range(3):\n",
        "\n",
        "    print('\\n\\\\\\t/\\n\\n/\\t\\\\\\n')\n",
        "\n",
        "print('+-------+')"
      ],
      "metadata": {
        "colab": {
          "base_uri": "https://localhost:8080/"
        },
        "id": "huzrmgSWj0up",
        "outputId": "bd87a09e-4030-4cbf-f605-ef32aa564b17"
      },
      "execution_count": null,
      "outputs": [
        {
          "output_type": "stream",
          "name": "stdout",
          "text": [
            "+-------+\n",
            "\n",
            "\\\t/\n",
            "\n",
            "/\t\\\n",
            "\n",
            "\n",
            "\\\t/\n",
            "\n",
            "/\t\\\n",
            "\n",
            "\n",
            "\\\t/\n",
            "\n",
            "/\t\\\n",
            "\n",
            "+-------+\n"
          ]
        }
      ]
    },
    {
      "cell_type": "markdown",
      "source": [
        "**QUESTION 4**"
      ],
      "metadata": {
        "id": "6TVpZAd9gCP1"
      }
    },
    {
      "cell_type": "code",
      "source": [
        "class NumberTriangle:\n",
        "    NUM_LINES = 7\n",
        "\n",
        "    def print_triangle(self):\n",
        "        for i in range(1, self.NUM_LINES + 1):\n",
        "            for j in range(i):\n",
        "                print(i, end=\"\")\n",
        "            print()\n",
        "\n",
        "# Create an instance of the class and print the triangle\n",
        "triangle = NumberTriangle()\n",
        "triangle.print_triangle()"
      ],
      "metadata": {
        "colab": {
          "base_uri": "https://localhost:8080/"
        },
        "id": "PujknxYIgGpT",
        "outputId": "9ead3377-28b6-474b-c3f2-cc6dedf33750"
      },
      "execution_count": null,
      "outputs": [
        {
          "output_type": "stream",
          "name": "stdout",
          "text": [
            "1\n",
            "22\n",
            "333\n",
            "4444\n",
            "55555\n",
            "666666\n",
            "7777777\n"
          ]
        }
      ]
    },
    {
      "cell_type": "markdown",
      "source": [
        "**QUESTION 5**"
      ],
      "metadata": {
        "id": "ntfQ6y7Xl1Ja"
      }
    },
    {
      "cell_type": "code",
      "source": [
        "def pay( hourly_rate, hours_worked):\n",
        "  normal_hours = 8\n",
        "  overtime_rate = 1.5\n",
        "  if hours_worked <= normal_hours\n",
        "  overtime_hours = hours_worked - normal_hours\n",
        "  overtime_pay = overtime_rate *hourly_rate* overtime_hours\n",
        "\n",
        "  total pay = normal_pay + overtime_pay\n",
        "  return total_pay"
      ],
      "metadata": {
        "id": "EwRcIT-UkE6i"
      },
      "execution_count": null,
      "outputs": []
    },
    {
      "cell_type": "markdown",
      "source": [
        "**QUESTION 6**"
      ],
      "metadata": {
        "id": "fGZ_BW6Jl5sz"
      }
    },
    {
      "cell_type": "code",
      "source": [
        "def pay(hourly_rate, hours_worked):\n",
        "    normal_hours = 8\n",
        "    overtime_rate = 1.5\n",
        "\n",
        "    if hours_worked <= normal_hours:\n",
        "        return hourly_rate * hours_worked\n",
        "    else:\n",
        "        normal_pay = hourly_rate * normal_hours\n",
        "        overtime_hours = hours_worked - normal_hours\n",
        "        overtime_pay = overtime_rate * hourly_rate * overtime_hours\n",
        "\n",
        "        total_pay = normal_pay + overtime_pay\n",
        "        return total_pay\n",
        "\n",
        "# Example usage:\n",
        "result = pay(5.50, 6)\n",
        "print(result)  # Output: 33.0\n",
        "\n",
        "result = pay(4.00, 11)\n",
        "print(result)  # Output: 50.0\n"
      ],
      "metadata": {
        "colab": {
          "base_uri": "https://localhost:8080/"
        },
        "id": "rpSfw80SlDDO",
        "outputId": "fc357761-166b-4924-e519-dd8f6828e4a5"
      },
      "execution_count": null,
      "outputs": [
        {
          "output_type": "stream",
          "name": "stdout",
          "text": [
            "33.0\n",
            "50.0\n"
          ]
        }
      ]
    },
    {
      "cell_type": "markdown",
      "source": [
        "**QUESTION 6 **"
      ],
      "metadata": {
        "id": "xMoYgs4gmID0"
      }
    },
    {
      "cell_type": "code",
      "source": [
        "import math\n",
        "#function to caculate the area of circle\n",
        "def area(raduis):\n",
        "  return math.pi *raduis**2\n",
        "# Example usuage\n",
        "result = area (2.0)\n",
        "print(result)"
      ],
      "metadata": {
        "colab": {
          "base_uri": "https://localhost:8080/"
        },
        "id": "jWBIgCFXmShD",
        "outputId": "b006ce12-13af-4778-e309-2fb111db0add"
      },
      "execution_count": null,
      "outputs": [
        {
          "output_type": "stream",
          "name": "stdout",
          "text": [
            "12.566370614359172\n"
          ]
        }
      ]
    },
    {
      "cell_type": "code",
      "source": [
        "low = int(input(\"low? \"))\n",
        "high = int(input(\"high? \"))\n",
        "sum_result = 0\n",
        "\n",
        "for i in range(low, high):\n",
        "    sum_result += i\n",
        "\n",
        "print(\"sum =\", sum_result)\n"
      ],
      "metadata": {
        "colab": {
          "base_uri": "https://localhost:8080/"
        },
        "id": "rfasMX20nAfv",
        "outputId": "2619b326-d7ef-48dc-cd2e-85634cec9776"
      },
      "execution_count": null,
      "outputs": [
        {
          "output_type": "stream",
          "name": "stdout",
          "text": [
            "low? 200\n",
            "high? 100\n",
            "sum = 0\n"
          ]
        }
      ]
    },
    {
      "cell_type": "code",
      "source": [
        "# initialize summ to 0\n",
        "total_sum = 0\n",
        "#keep prompting the user for numbers until 0 is entered\n",
        "while True:\n",
        "  user_input = float(\"input\"(\"Enter a number(type 0 to finish):\"))\n",
        "\n",
        "#check if then user entered 0 to exit the loop\n",
        "if user_input ==0\n",
        "break\n",
        "\n",
        "#Add the entered number to the sum\n",
        "total_sum += user_input\n",
        "#output the sum\n",
        "print(\"Sum of entered numbers.\", total_sum)"
      ],
      "metadata": {
        "id": "CtMxuU92pIgV"
      },
      "execution_count": null,
      "outputs": []
    },
    {
      "cell_type": "code",
      "source": [
        "# Initialize sum to 0\n",
        "total_sum = 0\n",
        "\n",
        "# Keep prompting the user for numbers until 0 is entered\n",
        "while True:\n",
        "    user_input = float(input(\"Enter a number (type 0 to finish): \"))\n",
        "\n",
        "    # Check if the user entered 0 to exit the loop\n",
        "    if user_input == 0:\n",
        "        break\n",
        "\n",
        "    # Add the entered number to the sum\n",
        "    total_sum += user_input\n",
        "\n",
        "# Output the sum\n",
        "print(\"Sum of entered numbers:\", total_sum)\n"
      ],
      "metadata": {
        "colab": {
          "base_uri": "https://localhost:8080/"
        },
        "id": "2Kc74IKLq-Fz",
        "outputId": "f321042f-a11e-4f52-aa39-76000faa3c84"
      },
      "execution_count": null,
      "outputs": [
        {
          "name": "stdout",
          "output_type": "stream",
          "text": [
            "Enter a number (type 0 to finish): 9\n",
            "Enter a number (type 0 to finish): 8\n",
            "Enter a number (type 0 to finish): 9\n",
            "Enter a number (type 0 to finish): 60\n"
          ]
        }
      ]
    }
  ]
}